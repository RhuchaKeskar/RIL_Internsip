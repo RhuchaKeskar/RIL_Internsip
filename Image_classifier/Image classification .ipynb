{
 "cells": [
  {
   "cell_type": "code",
   "execution_count": 1,
   "metadata": {},
   "outputs": [
    {
     "name": "stderr",
     "output_type": "stream",
     "text": [
      "Using TensorFlow backend.\n"
     ]
    }
   ],
   "source": [
    "import numpy as np\n",
    "import cv2 as oc\n",
    "from keras.models import Sequential\n",
    "from keras.layers import Conv2D\n",
    "from keras.layers import MaxPooling2D\n",
    "from keras.layers.core import Flatten\n",
    "from keras.layers.core import Dense\n",
    "from keras.layers.core import Dropout\n",
    "from keras.preprocessing.image import ImageDataGenerator\n",
    "from keras.preprocessing import image\n"
   ]
  },
  {
   "cell_type": "code",
   "execution_count": 2,
   "metadata": {},
   "outputs": [
    {
     "name": "stdout",
     "output_type": "stream",
     "text": [
      "WARNING:tensorflow:From C:\\Users\\hp\\.conda\\envs\\RILintern\\lib\\site-packages\\keras\\backend\\tensorflow_backend.py:74: The name tf.get_default_graph is deprecated. Please use tf.compat.v1.get_default_graph instead.\n",
      "\n",
      "WARNING:tensorflow:From C:\\Users\\hp\\.conda\\envs\\RILintern\\lib\\site-packages\\keras\\backend\\tensorflow_backend.py:517: The name tf.placeholder is deprecated. Please use tf.compat.v1.placeholder instead.\n",
      "\n",
      "WARNING:tensorflow:From C:\\Users\\hp\\.conda\\envs\\RILintern\\lib\\site-packages\\keras\\backend\\tensorflow_backend.py:4138: The name tf.random_uniform is deprecated. Please use tf.random.uniform instead.\n",
      "\n",
      "WARNING:tensorflow:From C:\\Users\\hp\\.conda\\envs\\RILintern\\lib\\site-packages\\keras\\backend\\tensorflow_backend.py:3976: The name tf.nn.max_pool is deprecated. Please use tf.nn.max_pool2d instead.\n",
      "\n",
      "WARNING:tensorflow:From C:\\Users\\hp\\.conda\\envs\\RILintern\\lib\\site-packages\\keras\\optimizers.py:790: The name tf.train.Optimizer is deprecated. Please use tf.compat.v1.train.Optimizer instead.\n",
      "\n",
      "WARNING:tensorflow:From C:\\Users\\hp\\.conda\\envs\\RILintern\\lib\\site-packages\\keras\\backend\\tensorflow_backend.py:3295: The name tf.log is deprecated. Please use tf.math.log instead.\n",
      "\n"
     ]
    }
   ],
   "source": [
    "classifier = Sequential()\n",
    "classifier.add(Conv2D(32, (3,3) , input_shape = (64,64,3), activation = \"relu\"))\n",
    "classifier.add(MaxPooling2D(pool_size = (2,2)))\n",
    "classifier.add(Conv2D(32, (3,3) ,activation = \"relu\"))\n",
    "classifier.add(MaxPooling2D(pool_size = (2,2)))\n",
    "classifier.add(Flatten())\n",
    "classifier.add(Dense(units = 64, activation = \"relu\"))\n",
    "classifier.add(Dense(units = 4, activation = \"softmax\"))\n",
    "classifier.compile(optimizer = \"adam\" , loss = \"categorical_crossentropy\", metrics = [\"accuracy\"])"
   ]
  },
  {
   "cell_type": "code",
   "execution_count": 3,
   "metadata": {},
   "outputs": [],
   "source": [
    "images = ImageDataGenerator(\n",
    "\n",
    "rescale = 1./255,\n",
    "shear_range = 0.2,\n",
    "zoom_range = 0.3,\n",
    "horizontal_flip = True\n",
    "\n",
    ")"
   ]
  },
  {
   "cell_type": "code",
   "execution_count": 4,
   "metadata": {},
   "outputs": [
    {
     "name": "stdout",
     "output_type": "stream",
     "text": [
      "Found 13770 images belonging to 4 classes.\n",
      "Found 1200 images belonging to 4 classes.\n"
     ]
    }
   ],
   "source": [
    "train_data = images.flow_from_directory(\n",
    "    \n",
    "    \"shapes/train\",\n",
    "    target_size = (64,64),\n",
    "    batch_size = 32,\n",
    "    class_mode = \"categorical\"\n",
    "    \n",
    ")\n",
    "test_data = images.flow_from_directory(\n",
    "    \n",
    "    \"shapes/test\",\n",
    "    target_size = (64,64),\n",
    "    batch_size = 32,\n",
    "    class_mode = \"categorical\"\n",
    "    \n",
    ")\n"
   ]
  },
  {
   "cell_type": "code",
   "execution_count": 6,
   "metadata": {},
   "outputs": [
    {
     "name": "stdout",
     "output_type": "stream",
     "text": [
      "Epoch 1/20\n",
      "100/100 [==============================] - 12s 118ms/step - loss: 0.0106 - acc: 0.9966 - val_loss: 0.0041 - val_acc: 1.0000\n",
      "Epoch 2/20\n",
      "100/100 [==============================] - 9s 92ms/step - loss: 0.0057 - acc: 0.9988 - val_loss: 0.0022 - val_acc: 1.0000\n",
      "Epoch 3/20\n",
      "100/100 [==============================] - 10s 99ms/step - loss: 0.0019 - acc: 1.0000 - val_loss: 0.0016 - val_acc: 1.0000\n",
      "Epoch 4/20\n",
      "100/100 [==============================] - 14s 140ms/step - loss: 0.0055 - acc: 0.9978 - val_loss: 0.0013 - val_acc: 1.0000\n",
      "Epoch 5/20\n",
      "100/100 [==============================] - 14s 137ms/step - loss: 0.0068 - acc: 0.9975 - val_loss: 0.0030 - val_acc: 1.0000\n",
      "Epoch 6/20\n",
      "100/100 [==============================] - 14s 139ms/step - loss: 0.0028 - acc: 0.9991 - val_loss: 0.0012 - val_acc: 1.0000\n",
      "Epoch 7/20\n",
      "100/100 [==============================] - 14s 138ms/step - loss: 0.0019 - acc: 0.9994 - val_loss: 7.4279e-04 - val_acc: 1.0000\n",
      "Epoch 8/20\n",
      "100/100 [==============================] - 14s 139ms/step - loss: 0.0034 - acc: 0.9988 - val_loss: 0.0023 - val_acc: 1.0000\n",
      "Epoch 9/20\n",
      "100/100 [==============================] - 13s 133ms/step - loss: 3.3453e-04 - acc: 1.0000 - val_loss: 0.0021 - val_acc: 1.0000\n",
      "Epoch 10/20\n",
      "100/100 [==============================] - 13s 130ms/step - loss: 8.3315e-04 - acc: 0.9997 - val_loss: 9.0994e-04 - val_acc: 1.0000\n",
      "Epoch 11/20\n",
      "100/100 [==============================] - 13s 126ms/step - loss: 0.0029 - acc: 0.9994 - val_loss: 5.2337e-04 - val_acc: 1.0000\n",
      "Epoch 12/20\n",
      "100/100 [==============================] - 14s 139ms/step - loss: 2.8085e-04 - acc: 1.0000 - val_loss: 1.0344e-04 - val_acc: 1.0000\n",
      "Epoch 13/20\n",
      "100/100 [==============================] - 14s 140ms/step - loss: 1.6274e-04 - acc: 1.0000 - val_loss: 5.3541e-04 - val_acc: 1.0000\n",
      "Epoch 14/20\n",
      "100/100 [==============================] - 14s 139ms/step - loss: 0.0034 - acc: 0.9987 - val_loss: 6.2250e-04 - val_acc: 1.0000\n",
      "Epoch 15/20\n",
      "100/100 [==============================] - 14s 142ms/step - loss: 2.2258e-04 - acc: 1.0000 - val_loss: 1.8383e-04 - val_acc: 1.0000\n",
      "Epoch 16/20\n",
      "100/100 [==============================] - 14s 143ms/step - loss: 5.2388e-05 - acc: 1.0000 - val_loss: 1.7161e-04 - val_acc: 1.0000\n",
      "Epoch 17/20\n",
      "100/100 [==============================] - 14s 142ms/step - loss: 5.1270e-04 - acc: 1.0000 - val_loss: 1.7904e-04 - val_acc: 1.0000\n",
      "Epoch 18/20\n",
      "100/100 [==============================] - 9s 90ms/step - loss: 0.0122 - acc: 0.9953 - val_loss: 0.0031 - val_acc: 0.9984\n",
      "Epoch 19/20\n",
      "100/100 [==============================] - 7s 75ms/step - loss: 5.2208e-04 - acc: 1.0000 - val_loss: 1.5547e-04 - val_acc: 1.0000\n",
      "Epoch 20/20\n",
      "100/100 [==============================] - 8s 76ms/step - loss: 1.2100e-04 - acc: 1.0000 - val_loss: 0.0058 - val_acc: 0.9984\n"
     ]
    },
    {
     "data": {
      "text/plain": [
       "<keras.callbacks.History at 0x20ace168588>"
      ]
     },
     "execution_count": 6,
     "metadata": {},
     "output_type": "execute_result"
    }
   ],
   "source": [
    "classifier.fit_generator(\n",
    "train_data,\n",
    "epochs = 20,\n",
    "steps_per_epoch = 100,\n",
    "validation_data = test_data,\n",
    "validation_steps = 20\n",
    ")"
   ]
  },
  {
   "cell_type": "code",
   "execution_count": 13,
   "metadata": {},
   "outputs": [
    {
     "name": "stdout",
     "output_type": "stream",
     "text": [
      "{'traincircle': 0, 'trainsquare': 1, 'trainstar': 2, 'traintriangle': 3}\n",
      "[[0. 0. 0. 1.]]\n"
     ]
    }
   ],
   "source": [
    "myimg = image.load_img(\"shapes/test/testcircle/3477.png\",target_size=(64,64))\n",
    "myimg = image.img_to_array(myimg)\n",
    "myimg = np.expand_dims(myimg, axis = 0)\n",
    "\n",
    "result = classifier.predict(myimg)\n",
    "print(train_data.class_indices)\n",
    "print(result)"
   ]
  },
  {
   "cell_type": "code",
   "execution_count": null,
   "metadata": {},
   "outputs": [],
   "source": []
  }
 ],
 "metadata": {
  "kernelspec": {
   "display_name": "Python 3",
   "language": "python",
   "name": "python3"
  },
  "language_info": {
   "codemirror_mode": {
    "name": "ipython",
    "version": 3
   },
   "file_extension": ".py",
   "mimetype": "text/x-python",
   "name": "python",
   "nbconvert_exporter": "python",
   "pygments_lexer": "ipython3",
   "version": "3.7.5"
  }
 },
 "nbformat": 4,
 "nbformat_minor": 2
}
